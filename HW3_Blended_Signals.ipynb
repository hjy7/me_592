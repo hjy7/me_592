{
  "cells": [
    {
      "cell_type": "code",
      "execution_count": 1,
      "metadata": {
        "id": "yc8lanSTgIGg"
      },
      "outputs": [],
      "source": [
        "# Dependencies and setup\n",
        "import torch\n",
        "import torchvision\n",
        "import torchvision.transforms as transforms\n",
        "\n",
        "import numpy as np\n",
        "import torch as th\n",
        "import os\n",
        "import cv2\n",
        "import pandas as pd\n",
        "\n",
        "import torch.nn as nn\n",
        "import torch.nn.functional as F\n",
        "\n",
        "import time\n",
        "\n",
        "import shutil\n",
        "\n",
        "import os\n",
        "\n",
        "from google.colab.patches import cv2_imshow\n",
        "\n",
        "from google.colab import drive\n",
        "# drive.mount('/content/drive')\n",
        "root = '/content/Data'"
      ]
    },
    {
      "cell_type": "code",
      "source": [
        "!unzip -u /content/Data.zip"
      ],
      "metadata": {
        "id": "Ke1v7cRpLJRa"
      },
      "execution_count": null,
      "outputs": []
    },
    {
      "cell_type": "code",
      "execution_count": 4,
      "metadata": {
        "id": "Fid75MFl2ZNx"
      },
      "outputs": [],
      "source": [
        "device = th.device(\"cuda\" if th.cuda.is_available() else \"cpu\")"
      ]
    },
    {
      "cell_type": "code",
      "execution_count": 25,
      "metadata": {
        "id": "KKcRdUJOfKGM"
      },
      "outputs": [],
      "source": [
        "# Python 2/3 compatibility\n",
        "from __future__ import print_function, division\n",
        "\n",
        "import itertools\n",
        "import time\n",
        "\n",
        "\n",
        "import numpy as np\n",
        "import matplotlib.pyplot as plt\n",
        "\n",
        "# Colors from Colorbrewer Paired_12\n",
        "colors = [[31, 120, 180], [51, 160, 44]]\n",
        "colors = [(r / 255, g / 255, b / 255) for (r, g, b) in colors]\n",
        "\n",
        "def plot_losses(train_history, val_history):\n",
        "    x = np.arange(1, len(train_history) + 1)\n",
        "\n",
        "    plt.figure(figsize=(8, 6))\n",
        "    plt.plot(x, train_history, color=colors[0], label=\"Training loss\", linewidth=2)\n",
        "    plt.plot(x, val_history, color=colors[1], label=\"Validation loss\", linewidth=2)\n",
        "    plt.xlabel('Epoch')\n",
        "    plt.ylabel('Loss')\n",
        "    plt.legend(loc='upper right')\n",
        "    plt.title(\"Evolution of the training and validation loss\")\n",
        "    plt.show()\n",
        "\n",
        "def plot_confusion_matrix(cm, classes,\n",
        "                          normalize=False,\n",
        "                          title='Confusion matrix',\n",
        "                          cmap=plt.cm.Blues):\n",
        "    \"\"\"\n",
        "    This function prints and plots the confusion matrix.\n",
        "    Normalization can be applied by setting `normalize=True`.\n",
        "    from http://scikit-learn.org/stable/auto_examples/model_selection/plot_confusion_matrix.html\n",
        "    :param cm: (numpy matrix) confusion matrix\n",
        "    :param classes: [str]\n",
        "    :param normalize: (bool)\n",
        "    :param title: (str)\n",
        "    :param cmap: (matplotlib color map)\n",
        "    \"\"\"\n",
        "    if normalize:\n",
        "        cm = cm.astype('float') / cm.sum(axis=1)[:, np.newaxis]\n",
        "        \n",
        "    plt.figure(figsize=(8, 8))   \n",
        "    plt.imshow(cm, interpolation='nearest', cmap=cmap)\n",
        "    plt.title(title)\n",
        "    plt.colorbar()\n",
        "    tick_marks = np.arange(len(classes))\n",
        "    plt.xticks(tick_marks, classes, rotation=45)\n",
        "    plt.yticks(tick_marks, classes)\n",
        "\n",
        "    fmt = '.2f' if normalize else 'd'\n",
        "    thresh = cm.max() / 2.\n",
        "    for i, j in itertools.product(range(cm.shape[0]), range(cm.shape[1])):\n",
        "        plt.text(j, i, format(cm[i, j], fmt),\n",
        "                 horizontalalignment=\"center\",\n",
        "                 color=\"white\" if cm[i, j] > thresh else \"black\")\n",
        "\n",
        "    plt.tight_layout()\n",
        "    plt.ylabel('True label')\n",
        "    plt.xlabel('Predicted label')"
      ]
    },
    {
      "cell_type": "code",
      "execution_count": 5,
      "metadata": {
        "colab": {
          "base_uri": "https://localhost:8080/",
          "height": 0
        },
        "id": "M30oPaR9uswo",
        "outputId": "24efc1a6-8627-4468-c224-42b8c8849e81"
      },
      "outputs": [
        {
          "output_type": "stream",
          "name": "stdout",
          "text": [
            "Training n = 9914\n",
            "Test n = 2504\n"
          ]
        }
      ],
      "source": [
        "robot_log_training = pd.read_csv(os.path.join(root, 'Training', 'robot_log.csv'), index_col = 'Path')\n",
        "robot_log_test     = pd.read_csv(os.path.join(root, 'Test', 'robot_log.csv'), index_col = 'Path')\n",
        "\n",
        "n_training_samples = len(robot_log_training) \n",
        "n_val_samples = len(robot_log_test)\n",
        "\n",
        "print(f'Training n = {n_training_samples}')\n",
        "print(f'Test n = {n_val_samples}')"
      ]
    },
    {
      "cell_type": "code",
      "execution_count": 6,
      "metadata": {
        "id": "_JsAu5ZD2_ae"
      },
      "outputs": [],
      "source": [
        "# Begin loading in images in IMG folder\n",
        "# Move them into a \"Classified\" folder which allows torch to read them into datasets\n",
        "\n",
        "'''\n",
        "Classification into bins\n",
        "SteerAngle: -, 0, +\n",
        "Throttle: -, 0, +\n",
        "\n",
        "Steer/Throttle\n",
        "0: -/-\n",
        "1: -/0\n",
        "2: -/+\n",
        "3: 0/-\n",
        "4: 0/0\n",
        "5: 0/+\n",
        "6: +/-\n",
        "7: +/0\n",
        "8: +/+\n",
        "'''\n",
        "def return_classifier(image, robot_log):\n",
        "  try:\n",
        "    steer = float(robot_log['SteerAngle'][image])\n",
        "    throttle = float(robot_log['Throttle'][image])\n",
        "\n",
        "    if np.sign(steer) == -1:\n",
        "      if np.sign(throttle) == -1:\n",
        "        return 0\n",
        "      elif np.sign(throttle) == 0:\n",
        "        return 1\n",
        "      elif np.sign(throttle) == 1:\n",
        "        return 2\n",
        "    elif np.sign(steer) == 0:\n",
        "      if np.sign(throttle) == -1:\n",
        "        return 3\n",
        "      elif np.sign(throttle) == 0:\n",
        "        return 4\n",
        "      elif np.sign(throttle) == 1:\n",
        "        return 5\n",
        "    elif np.sign(steer) == 1:\n",
        "      if np.sign(throttle) == -1:\n",
        "        return 6\n",
        "      elif np.sign(throttle) == 0:\n",
        "        return 7\n",
        "      elif np.sign(throttle) == 1:\n",
        "        return 8\n",
        "  except:\n",
        "    print(f'Failed to copy over image {image}')\n",
        "\n",
        "train_dict = {}\n",
        "test_dict = {}\n",
        "\n",
        "for folder in ['Training', 'Test']:\n",
        "  image_dir = os.path.join(root, folder, 'IMG')\n",
        "\n",
        "  for image in os.listdir(image_dir):\n",
        "    if folder == 'Training':\n",
        "      classifier = return_classifier(image, robot_log_training)\n",
        "    elif folder == 'Test':\n",
        "      classifier = return_classifier(image, robot_log_test)\n",
        "\n",
        "    target_path = os.path.join(os.path.join(root, folder, \"Classified\"), str(classifier))\n",
        "    exists = os.path.exists(target_path)\n",
        "    \n",
        "    if not exists:\n",
        "      # Create a new directory because it does not exist \n",
        "      os.makedirs(target_path)\n",
        "\n",
        "    # Copy images into classified folders  \n",
        "    shutil.copy(os.path.join(root, folder, \"IMG\", image), target_path)"
      ]
    },
    {
      "cell_type": "code",
      "execution_count": 12,
      "metadata": {
        "colab": {
          "base_uri": "https://localhost:8080/",
          "height": 0
        },
        "id": "TInOjWa4M99W",
        "outputId": "c316076e-28ff-4c38-bb68-639784e2beb6"
      },
      "outputs": [
        {
          "output_type": "stream",
          "name": "stdout",
          "text": [
            "Number of images per discretized bin: \n",
            "\n",
            "Training\n",
            "* Bin 0, n = 180\n",
            "* Bin 1, n = 954\n",
            "* Bin 2, n = 595\n",
            "* Bin 3, n = 114\n",
            "* Bin 4, n = 3808\n",
            "* Bin 5, n = 2068\n",
            "* Bin 6, n = 243\n",
            "* Bin 7, n = 1364\n",
            "Test\n",
            "* Bin 0, n = 87\n",
            "* Bin 1, n = 190\n",
            "* Bin 2, n = 48\n",
            "* Bin 3, n = 78\n",
            "* Bin 4, n = 948\n",
            "* Bin 5, n = 475\n",
            "* Bin 6, n = 22\n",
            "* Bin 7, n = 599\n"
          ]
        }
      ],
      "source": [
        "print('Number of images per discretized bin: \\n')\n",
        "\n",
        "for dataset in ['Training', 'Test']:\n",
        "  print(dataset)\n",
        "  for dir in range(0,8):\n",
        "      print(f'* Bin {dir}, n = '+ str(len(os.listdir(os.path.join(root, dataset,\"Classified\", str(dir))))))"
      ]
    },
    {
      "cell_type": "code",
      "execution_count": 17,
      "metadata": {
        "id": "0GMAujCioLXz"
      },
      "outputs": [],
      "source": [
        "# Define CNN\n",
        "\n",
        "class SimpleConvolutionalNetwork(nn.Module):\n",
        "    def __init__(self):\n",
        "        super(SimpleConvolutionalNetwork, self).__init__()\n",
        "        \n",
        "        self.conv1 = nn.Conv2d(3, 18, kernel_size=3, stride=1, padding=1)\n",
        "        self.pool = nn.MaxPool2d(kernel_size=2, stride=2, padding=0)\n",
        "        self.fc1 = nn.Linear(18 * 16 * 16, 64) \n",
        "        self.fc2 = nn.Linear(64, 200) \n",
        "        self.fc3 = nn.Linear(200, 200) \n",
        "        self.fc4 = nn.Linear(200, 64) \n",
        "        self.fc5 = nn.Linear(64, 9)\n",
        "\n",
        "    def forward(self, x):\n",
        "        x = F.relu(self.conv1(x))\n",
        "        x = self.pool(x)\n",
        "        x = x.view(-1, 18 * 16 * 16)\n",
        "        x = F.relu(self.fc1(x))\n",
        "        x = self.fc2(x)\n",
        "\n",
        "        return x"
      ]
    },
    {
      "cell_type": "code",
      "execution_count": 19,
      "metadata": {
        "id": "SG7ZQjpQwV2j"
      },
      "outputs": [],
      "source": [
        "num_workers = 2\n",
        "test_batch_size = 64\n",
        "\n",
        "# Transform the images to normalize them and downsample\n",
        "transform = transforms.Compose(\n",
        "    [transforms.ToTensor(),\n",
        "     transforms.Normalize(mean=(0.5, 0.5, 0.5), std=(0.5, 0.5, 0.5)),\n",
        "     transforms.Resize((32,32))])\n",
        "\n",
        "train_set = torchvision.datasets.ImageFolder(root=os.path.join(root, 'Training', 'Classified'), transform=transform)\n",
        "\n",
        "train_loader = torch.utils.data.DataLoader(train_set, batch_size=test_batch_size,\n",
        "                                          num_workers=num_workers)\n",
        "\n",
        "test_set = torchvision.datasets.ImageFolder(root=os.path.join(root, 'Test', 'Classified'), transform=transform)\n",
        "\n",
        "test_loader = torch.utils.data.DataLoader(test_set, batch_size=test_batch_size,\n",
        "                                         num_workers=num_workers)\n",
        "\n",
        "from torch.utils.data.sampler import SubsetRandomSampler\n",
        "\n",
        "# Assume 1000 validation images\n",
        "n_training_samples = len(train_set) - 1000 \n",
        "n_val_samples = 1000\n",
        "\n",
        "train_sampler = SubsetRandomSampler(np.arange(n_training_samples, dtype=np.int64))\n",
        "val_sampler = SubsetRandomSampler(np.arange(n_training_samples, n_training_samples+ n_val_samples, dtype=np.int64))"
      ]
    },
    {
      "cell_type": "code",
      "execution_count": 15,
      "metadata": {
        "colab": {
          "base_uri": "https://localhost:8080/",
          "height": 0
        },
        "id": "Wxk0DE4sZy8F",
        "outputId": "60ded911-81da-436e-c4f6-ddc2db52323b"
      },
      "outputs": [
        {
          "output_type": "stream",
          "name": "stdout",
          "text": [
            "rm: cannot remove '/content/Data/Training/Classified/.ipynb_checkpoints': No such file or directory\n",
            ".  ..  0  1  2\t3  4  5  6  7  8\n",
            "rm: cannot remove '/content/Data/Test/Classified/.ipynb_checkpoints': No such file or directory\n",
            ".  ..  0  1  2\t3  4  5  6  7  8\n"
          ]
        }
      ],
      "source": [
        "# Quick fix, sometimes a hidden directory is created that messes up the torch dataset initialization\n",
        "!rm -R /content/Data/Training/Classified/.ipynb_checkpoints\n",
        "!ls /content/Data/Training/Classified -a   #to make sure that the deletion has occurred\n",
        "!rm -R /content/Data/Test/Classified/.ipynb_checkpoints\n",
        "!ls /content/Data/Test/Classified -a   #to make sure that the deletion has occurred"
      ]
    },
    {
      "cell_type": "code",
      "execution_count": 20,
      "metadata": {
        "id": "rXYiTV6uuDNU"
      },
      "outputs": [],
      "source": [
        "import torch.optim as optim\n",
        "\n",
        "def createLossAndOptimizer(net, learning_rate=0.001):\n",
        "    # it combines softmax with negative log likelihood loss\n",
        "    criterion = nn.CrossEntropyLoss()  \n",
        "    #optimizer = optim.SGD(net.parameters(), lr=learning_rate, momentum=0.9)\n",
        "    optimizer = optim.Adam(net.parameters(), lr=learning_rate)\n",
        "    return criterion, optimizer\n",
        "\n",
        "def get_train_loader(batch_size):\n",
        "    return torch.utils.data.DataLoader(train_set, batch_size=batch_size, sampler=train_sampler,\n",
        "                                              num_workers=num_workers)\n",
        "\n",
        "# # Use larger batch size for validation to speed up computation\n",
        "val_loader = torch.utils.data.DataLoader(train_set, batch_size=313, sampler=val_sampler,\n",
        "                                          num_workers=num_workers)\n",
        "\n",
        "def train(net, batch_size, n_epochs, learning_rate):\n",
        "    \"\"\"\n",
        "    Train a neural network and print statistics of the training\n",
        "    \n",
        "    :param net: (PyTorch Neural Network)\n",
        "    :param batch_size: (int)\n",
        "    :param n_epochs: (int)  Number of iterations on the training set\n",
        "    :param learning_rate: (float) learning rate used by the optimizer\n",
        "    \"\"\"\n",
        "    print(\"===== HYPERPARAMETERS =====\")\n",
        "    print(\"batch_size=\", batch_size)\n",
        "    print(\"n_epochs=\", n_epochs)\n",
        "    print(\"learning_rate=\", learning_rate)\n",
        "    print(\"=\" * 30)\n",
        "    \n",
        "    train_loader = get_train_loader(batch_size)\n",
        "    n_minibatches = len(train_loader)\n",
        "\n",
        "    criterion, optimizer = createLossAndOptimizer(net, learning_rate)\n",
        "    # Init variables used for plotting the loss\n",
        "    train_history = []\n",
        "    val_history = []\n",
        "\n",
        "    training_start_time = time.time()\n",
        "    best_error = np.inf\n",
        "    best_model_path = \"best_model.pth\"\n",
        "    \n",
        "    # Move model to gpu if possible\n",
        "    net = net.to(device)\n",
        "\n",
        "    for epoch in range(n_epochs):  # loop over the dataset multiple times\n",
        "\n",
        "        running_loss = 0.0\n",
        "        print_every = n_minibatches // 10\n",
        "        start_time = time.time()\n",
        "        total_train_loss = 0\n",
        "        \n",
        "        opt_end = time.time()\n",
        "        for i, (inputs, labels) in enumerate(train_loader):          \n",
        "            # Move tensors to correct device\n",
        "            inputs, labels = inputs.to(device), labels.to(device)\n",
        "\n",
        "            # zero the parameter gradients\n",
        "            optimizer.zero_grad()\n",
        "\n",
        "            # forward + backward + optimize\n",
        "            outputs = net(inputs)\n",
        "\n",
        "            loss = criterion(outputs, labels)\n",
        "            loss.backward()\n",
        "            optimizer.step()\n",
        "            \n",
        "            # print statistics\n",
        "            running_loss += loss.item()\n",
        "            total_train_loss += loss.item()\n",
        "            # print every 10th of epoch\n",
        "\n",
        "            if (i + 1) % (print_every + 1) == 0:    \n",
        "                print(\"Epoch {}, {:d}% \\t train_loss: {:.2f} took: {:.2f}s\".format(\n",
        "                      epoch + 1, int(100 * (i + 1) / n_minibatches), running_loss / print_every,\n",
        "                      time.time() - start_time))\n",
        "                running_loss = 0.0\n",
        "                start_time = time.time()\n",
        "\n",
        "            opt_end = time.time()\n",
        "\n",
        "        train_history.append(total_train_loss / len(train_loader))\n",
        "\n",
        "        total_val_loss = 0\n",
        "        # Do a pass on the validation set\n",
        "        # We don't need to compute gradient,\n",
        "        # we save memory and computation using th.no_grad()\n",
        "        \n",
        "        with th.no_grad():\n",
        "          for inputs, labels in val_loader:\n",
        "              # Move tensors to correct device\n",
        "              inputs, labels = inputs.to(device), labels.to(device)\n",
        "              # Forward pass\n",
        "              predictions = net(inputs)\n",
        "              val_loss = criterion(predictions, labels)\n",
        "              total_val_loss += val_loss.item()\n",
        "            \n",
        "        val_history.append(total_val_loss / len(val_loader))\n",
        "        # Save model that performs best on validation set\n",
        "        if total_val_loss < best_error:\n",
        "            best_error = total_val_loss\n",
        "            th.save(net.state_dict(), best_model_path)\n",
        "\n",
        "        print(\"Validation loss = {:.2f}\".format(total_val_loss / len(val_loader)))\n",
        "        \n",
        "    print(\"Training Finished, took {:.2f}s\".format(time.time() - training_start_time))\n",
        "    \n",
        "    # Load best model\n",
        "    # net.load_state_dict(th.load(best_model_path))\n",
        "\n",
        "    return train_history, val_history"
      ]
    },
    {
      "cell_type": "code",
      "execution_count": 21,
      "metadata": {
        "colab": {
          "base_uri": "https://localhost:8080/",
          "height": 0
        },
        "id": "Zcxf1zwewSLq",
        "outputId": "10967d08-51f3-48ca-84af-57e67c5a224f"
      },
      "outputs": [
        {
          "output_type": "stream",
          "name": "stdout",
          "text": [
            "===== HYPERPARAMETERS =====\n",
            "batch_size= 32\n",
            "n_epochs= 15\n",
            "learning_rate= 0.001\n",
            "==============================\n",
            "Epoch 1, 10% \t train_loss: 2.66 took: 1.72s\n",
            "Epoch 1, 20% \t train_loss: 1.54 took: 1.23s\n",
            "Epoch 1, 30% \t train_loss: 1.52 took: 1.24s\n",
            "Epoch 1, 40% \t train_loss: 1.49 took: 1.30s\n",
            "Epoch 1, 50% \t train_loss: 1.41 took: 1.29s\n",
            "Epoch 1, 60% \t train_loss: 1.36 took: 1.26s\n",
            "Epoch 1, 70% \t train_loss: 1.33 took: 1.25s\n",
            "Epoch 1, 80% \t train_loss: 1.24 took: 1.29s\n",
            "Epoch 1, 90% \t train_loss: 1.30 took: 1.29s\n",
            "Validation loss = 10.14\n",
            "Epoch 2, 10% \t train_loss: 1.17 took: 1.42s\n",
            "Epoch 2, 20% \t train_loss: 1.26 took: 1.28s\n",
            "Epoch 2, 30% \t train_loss: 1.17 took: 1.21s\n",
            "Epoch 2, 40% \t train_loss: 1.13 took: 1.23s\n",
            "Epoch 2, 50% \t train_loss: 1.15 took: 1.23s\n",
            "Epoch 2, 60% \t train_loss: 1.13 took: 1.31s\n",
            "Epoch 2, 70% \t train_loss: 1.18 took: 1.30s\n",
            "Epoch 2, 80% \t train_loss: 1.12 took: 1.24s\n",
            "Epoch 2, 90% \t train_loss: 1.13 took: 1.24s\n",
            "Validation loss = 10.23\n",
            "Epoch 3, 10% \t train_loss: 1.06 took: 1.39s\n",
            "Epoch 3, 20% \t train_loss: 1.03 took: 1.31s\n",
            "Epoch 3, 30% \t train_loss: 1.01 took: 1.27s\n",
            "Epoch 3, 40% \t train_loss: 1.06 took: 1.23s\n",
            "Epoch 3, 50% \t train_loss: 1.05 took: 1.24s\n",
            "Epoch 3, 60% \t train_loss: 1.02 took: 1.26s\n",
            "Epoch 3, 70% \t train_loss: 1.03 took: 1.24s\n",
            "Epoch 3, 80% \t train_loss: 1.00 took: 1.28s\n",
            "Epoch 3, 90% \t train_loss: 1.01 took: 1.26s\n",
            "Validation loss = 10.65\n",
            "Epoch 4, 10% \t train_loss: 0.97 took: 1.71s\n",
            "Epoch 4, 20% \t train_loss: 1.01 took: 1.26s\n",
            "Epoch 4, 30% \t train_loss: 0.93 took: 1.27s\n",
            "Epoch 4, 40% \t train_loss: 0.96 took: 1.37s\n",
            "Epoch 4, 50% \t train_loss: 0.93 took: 2.52s\n",
            "Epoch 4, 60% \t train_loss: 0.88 took: 1.72s\n",
            "Epoch 4, 70% \t train_loss: 0.94 took: 1.26s\n",
            "Epoch 4, 80% \t train_loss: 0.90 took: 1.20s\n",
            "Epoch 4, 90% \t train_loss: 0.90 took: 1.27s\n",
            "Validation loss = 11.16\n",
            "Epoch 5, 10% \t train_loss: 0.81 took: 1.41s\n",
            "Epoch 5, 20% \t train_loss: 0.79 took: 1.25s\n",
            "Epoch 5, 30% \t train_loss: 0.90 took: 1.70s\n",
            "Epoch 5, 40% \t train_loss: 0.90 took: 1.98s\n",
            "Epoch 5, 50% \t train_loss: 0.81 took: 1.80s\n",
            "Epoch 5, 60% \t train_loss: 0.87 took: 1.65s\n",
            "Epoch 5, 70% \t train_loss: 0.88 took: 1.30s\n",
            "Epoch 5, 80% \t train_loss: 0.84 took: 1.22s\n",
            "Epoch 5, 90% \t train_loss: 0.86 took: 1.30s\n",
            "Validation loss = 11.21\n",
            "Epoch 6, 10% \t train_loss: 0.77 took: 1.44s\n",
            "Epoch 6, 20% \t train_loss: 0.79 took: 1.25s\n",
            "Epoch 6, 30% \t train_loss: 0.80 took: 1.27s\n",
            "Epoch 6, 40% \t train_loss: 0.77 took: 1.30s\n",
            "Epoch 6, 50% \t train_loss: 0.75 took: 1.27s\n",
            "Epoch 6, 60% \t train_loss: 0.76 took: 1.29s\n",
            "Epoch 6, 70% \t train_loss: 0.76 took: 1.27s\n",
            "Epoch 6, 80% \t train_loss: 0.78 took: 1.29s\n",
            "Epoch 6, 90% \t train_loss: 0.79 took: 1.26s\n",
            "Validation loss = 12.03\n",
            "Epoch 7, 10% \t train_loss: 0.73 took: 1.41s\n",
            "Epoch 7, 20% \t train_loss: 0.75 took: 1.24s\n",
            "Epoch 7, 30% \t train_loss: 0.69 took: 1.30s\n",
            "Epoch 7, 40% \t train_loss: 0.71 took: 1.30s\n",
            "Epoch 7, 50% \t train_loss: 0.71 took: 1.25s\n",
            "Epoch 7, 60% \t train_loss: 0.72 took: 1.20s\n",
            "Epoch 7, 70% \t train_loss: 0.72 took: 1.23s\n",
            "Epoch 7, 80% \t train_loss: 0.77 took: 1.28s\n",
            "Epoch 7, 90% \t train_loss: 0.68 took: 1.29s\n",
            "Validation loss = 12.35\n",
            "Epoch 8, 10% \t train_loss: 0.67 took: 1.48s\n",
            "Epoch 8, 20% \t train_loss: 0.67 took: 1.28s\n",
            "Epoch 8, 30% \t train_loss: 0.71 took: 1.29s\n",
            "Epoch 8, 40% \t train_loss: 0.65 took: 1.25s\n",
            "Epoch 8, 50% \t train_loss: 0.65 took: 1.22s\n",
            "Epoch 8, 60% \t train_loss: 0.67 took: 1.27s\n",
            "Epoch 8, 70% \t train_loss: 0.64 took: 1.27s\n",
            "Epoch 8, 80% \t train_loss: 0.63 took: 1.29s\n",
            "Epoch 8, 90% \t train_loss: 0.62 took: 1.29s\n",
            "Validation loss = 12.01\n",
            "Epoch 9, 10% \t train_loss: 0.61 took: 1.40s\n",
            "Epoch 9, 20% \t train_loss: 0.57 took: 1.29s\n",
            "Epoch 9, 30% \t train_loss: 0.62 took: 1.27s\n",
            "Epoch 9, 40% \t train_loss: 0.59 took: 1.24s\n",
            "Epoch 9, 50% \t train_loss: 0.57 took: 1.28s\n",
            "Epoch 9, 60% \t train_loss: 0.64 took: 1.30s\n",
            "Epoch 9, 70% \t train_loss: 0.59 took: 1.25s\n",
            "Epoch 9, 80% \t train_loss: 0.59 took: 1.24s\n",
            "Epoch 9, 90% \t train_loss: 0.61 took: 1.33s\n",
            "Validation loss = 12.33\n",
            "Epoch 10, 10% \t train_loss: 0.52 took: 1.47s\n",
            "Epoch 10, 20% \t train_loss: 0.56 took: 1.26s\n",
            "Epoch 10, 30% \t train_loss: 0.53 took: 1.23s\n",
            "Epoch 10, 40% \t train_loss: 0.58 took: 1.30s\n",
            "Epoch 10, 50% \t train_loss: 0.60 took: 1.26s\n",
            "Epoch 10, 60% \t train_loss: 0.61 took: 1.26s\n",
            "Epoch 10, 70% \t train_loss: 0.57 took: 1.29s\n",
            "Epoch 10, 80% \t train_loss: 0.62 took: 1.26s\n",
            "Epoch 10, 90% \t train_loss: 0.53 took: 1.23s\n",
            "Validation loss = 12.33\n",
            "Epoch 11, 10% \t train_loss: 0.50 took: 1.39s\n",
            "Epoch 11, 20% \t train_loss: 0.49 took: 1.29s\n",
            "Epoch 11, 30% \t train_loss: 0.49 took: 1.20s\n",
            "Epoch 11, 40% \t train_loss: 0.55 took: 1.26s\n",
            "Epoch 11, 50% \t train_loss: 0.48 took: 1.28s\n",
            "Epoch 11, 60% \t train_loss: 0.52 took: 1.28s\n",
            "Epoch 11, 70% \t train_loss: 0.54 took: 1.24s\n",
            "Epoch 11, 80% \t train_loss: 0.48 took: 1.22s\n",
            "Epoch 11, 90% \t train_loss: 0.51 took: 1.40s\n",
            "Validation loss = 12.88\n",
            "Epoch 12, 10% \t train_loss: 0.46 took: 2.30s\n",
            "Epoch 12, 20% \t train_loss: 0.48 took: 1.94s\n",
            "Epoch 12, 30% \t train_loss: 0.45 took: 1.29s\n",
            "Epoch 12, 40% \t train_loss: 0.46 took: 1.23s\n",
            "Epoch 12, 50% \t train_loss: 0.48 took: 1.39s\n",
            "Epoch 12, 60% \t train_loss: 0.44 took: 2.28s\n",
            "Epoch 12, 70% \t train_loss: 0.49 took: 1.83s\n",
            "Epoch 12, 80% \t train_loss: 0.48 took: 1.45s\n",
            "Epoch 12, 90% \t train_loss: 0.52 took: 1.84s\n",
            "Validation loss = 13.07\n",
            "Epoch 13, 10% \t train_loss: 0.41 took: 1.40s\n",
            "Epoch 13, 20% \t train_loss: 0.41 took: 1.85s\n",
            "Epoch 13, 30% \t train_loss: 0.42 took: 1.59s\n",
            "Epoch 13, 40% \t train_loss: 0.41 took: 1.56s\n",
            "Epoch 13, 50% \t train_loss: 0.44 took: 1.86s\n",
            "Epoch 13, 60% \t train_loss: 0.46 took: 1.47s\n",
            "Epoch 13, 70% \t train_loss: 0.48 took: 1.27s\n",
            "Epoch 13, 80% \t train_loss: 0.43 took: 1.30s\n",
            "Epoch 13, 90% \t train_loss: 0.45 took: 1.24s\n",
            "Validation loss = 13.46\n",
            "Epoch 14, 10% \t train_loss: 0.37 took: 1.41s\n",
            "Epoch 14, 20% \t train_loss: 0.40 took: 1.24s\n",
            "Epoch 14, 30% \t train_loss: 0.37 took: 1.31s\n",
            "Epoch 14, 40% \t train_loss: 0.37 took: 1.31s\n",
            "Epoch 14, 50% \t train_loss: 0.42 took: 1.23s\n",
            "Epoch 14, 60% \t train_loss: 0.45 took: 1.23s\n",
            "Epoch 14, 70% \t train_loss: 0.42 took: 1.31s\n",
            "Epoch 14, 80% \t train_loss: 0.41 took: 1.24s\n",
            "Epoch 14, 90% \t train_loss: 0.42 took: 1.33s\n",
            "Validation loss = 14.79\n",
            "Epoch 15, 10% \t train_loss: 0.39 took: 1.42s\n",
            "Epoch 15, 20% \t train_loss: 0.33 took: 1.24s\n",
            "Epoch 15, 30% \t train_loss: 0.31 took: 1.29s\n",
            "Epoch 15, 40% \t train_loss: 0.37 took: 1.21s\n",
            "Epoch 15, 50% \t train_loss: 0.41 took: 1.28s\n",
            "Epoch 15, 60% \t train_loss: 0.42 took: 1.30s\n",
            "Epoch 15, 70% \t train_loss: 0.34 took: 1.22s\n",
            "Epoch 15, 80% \t train_loss: 0.38 took: 1.26s\n",
            "Epoch 15, 90% \t train_loss: 0.39 took: 1.29s\n",
            "Validation loss = 15.15\n",
            "Training Finished, took 239.87s\n"
          ]
        }
      ],
      "source": [
        "device = th.device(\"cuda\" if th.cuda.is_available() else \"cpu\")\n",
        "\n",
        "net = SimpleConvolutionalNetwork()\n",
        "\n",
        "train_history, val_history = train(net, batch_size=32, n_epochs=15, learning_rate=0.001)"
      ]
    },
    {
      "cell_type": "code",
      "execution_count": 26,
      "metadata": {
        "id": "OAmBM9SsmGC8",
        "colab": {
          "base_uri": "https://localhost:8080/",
          "height": 404
        },
        "outputId": "0efeb041-00c0-4f68-e4fa-85337f9287fc"
      },
      "outputs": [
        {
          "output_type": "display_data",
          "data": {
            "text/plain": [
              "<Figure size 576x432 with 1 Axes>"
            ],
            "image/png": "[encoded data removed]"
          },
          "metadata": {
            "needs_background": "light"
          }
        }
      ],
      "source": [
        "plot_losses(train_history, val_history)"
      ]
    },
    {
      "cell_type": "code",
      "source": [
        "classes = ('0', '1', '2', '3',\n",
        "           '4', '5', '6', '7', '8')\n",
        "\n",
        "def dataset_accuracy(net, data_loader, name=\"\"):\n",
        "    net = net.to(device)\n",
        "    correct = 0\n",
        "    total = 0\n",
        "    for images, labels in data_loader:\n",
        "        images, labels = images.to(device), labels.to(device)\n",
        "        outputs = net(images)\n",
        "        _, predicted = torch.max(outputs, 1)\n",
        "        total += labels.size(0)\n",
        "        correct += (predicted == labels).sum()\n",
        "    accuracy = 100 * float(correct) / total\n",
        "    print('Accuracy of the network on the {} {} images: {:.2f} %'.format(total, name, accuracy))\n",
        "\n",
        "def train_set_accuracy(net):\n",
        "    dataset_accuracy(net, train_loader, \"train\")\n",
        "\n",
        "def val_set_accuracy(net):\n",
        "    dataset_accuracy(net, val_loader, \"validation\")  \n",
        "    \n",
        "def test_set_accuracy(net):\n",
        "    dataset_accuracy(net, test_loader, \"test\")\n",
        "\n",
        "def compute_accuracy(net):\n",
        "    train_set_accuracy(net)\n",
        "    val_set_accuracy(net)\n",
        "    test_set_accuracy(net)\n",
        "    \n",
        "print(\"Computing accuracy...\")\n",
        "compute_accuracy(net)"
      ],
      "metadata": {
        "colab": {
          "base_uri": "https://localhost:8080/",
          "height": 0
        },
        "id": "1U91AOmsb5cv",
        "outputId": "b6012479-a22f-4694-ec6d-207393f46ea7"
      },
      "execution_count": 27,
      "outputs": [
        {
          "output_type": "stream",
          "name": "stdout",
          "text": [
            "Computing accuracy...\n",
            "Accuracy of the network on the 9914 train images: 81.48 %\n",
            "Accuracy of the network on the 1000 validation images: 7.60 %\n",
            "Accuracy of the network on the 2504 test images: 42.45 %\n"
          ]
        }
      ]
    },
    {
      "cell_type": "code",
      "source": [
        "def accuracy_per_class(net):\n",
        "    net = net.to(device)\n",
        "    n_classes = 9\n",
        "    # (real, predicted)\n",
        "    confusion_matrix = np.zeros((n_classes, n_classes), dtype=np.int64)\n",
        "\n",
        "    for images, labels in test_loader:\n",
        "        images, labels = images, labels = images.to(device), labels.to(device)\n",
        "        outputs = net(images)\n",
        "        _, predicted = torch.max(outputs.data, 1)\n",
        "        for i in range(predicted.size(0)):\n",
        "            confusion_matrix[labels[i], predicted[i]] += 1\n",
        "            label = labels[i]\n",
        "\n",
        "    print(\"{:<10} {:^10}\".format(\"Class\", \"Accuracy (%)\"))\n",
        "    for i in range(n_classes):\n",
        "        class_total = confusion_matrix[i, :].sum()\n",
        "        class_correct = confusion_matrix[i, i]\n",
        "        percentage_correct = 100.0 * float(class_correct) / class_total\n",
        "        \n",
        "        print('{:<10} {:^10.2f}'.format(classes[i], percentage_correct))\n",
        "    return confusion_matrix\n",
        "\n",
        "confusion_matrix = accuracy_per_class(net)"
      ],
      "metadata": {
        "colab": {
          "base_uri": "https://localhost:8080/",
          "height": 0
        },
        "id": "2WGOxGl6cQWg",
        "outputId": "5cd3e1b2-5233-4378-9aea-d5c5fe9d512c"
      },
      "execution_count": 28,
      "outputs": [
        {
          "output_type": "stream",
          "name": "stdout",
          "text": [
            "Class      Accuracy (%)\n",
            "0            31.03   \n",
            "1            23.68   \n",
            "2             0.00   \n",
            "3            14.10   \n",
            "4            64.56   \n",
            "5            46.32   \n",
            "6            59.09   \n",
            "7            22.54   \n",
            "8             0.00   \n"
          ]
        }
      ]
    },
    {
      "cell_type": "code",
      "source": [
        "# Plot normalized confusion matrix\n",
        "plot_confusion_matrix(confusion_matrix, classes, normalize=True,\n",
        "                      title='Normalized confusion matrix')\n",
        "\n",
        "# Plot non-normalized confusion matrix\n",
        "plot_confusion_matrix(confusion_matrix, classes,\n",
        "                      title='Confusion matrix, without normalization')"
      ],
      "metadata": {
        "colab": {
          "base_uri": "https://localhost:8080/",
          "height": 1000
        },
        "id": "jjqOVFYPcVB2",
        "outputId": "b8ef6990-9fb4-43c8-9f12-9740915bd3a7"
      },
      "execution_count": 29,
      "outputs": [
        {
          "output_type": "display_data",
          "data": {
            "text/plain": [
              "<Figure size 576x576 with 2 Axes>"
            ],
            "image/png": "[encoded data removed]"
          },
          "metadata": {
            "needs_background": "light"
          }
        },
        {
          "output_type": "display_data",
          "data": {
            "text/plain": [
              "<Figure size 576x576 with 2 Axes>"
            ],
            "image/png": "[encoded data removed]"
          },
          "metadata": {
            "needs_background": "light"
          }
        }
      ]
    }
  ],
  "metadata": {
    "colab": {
      "collapsed_sections": [],
      "name": "HW3_Blended_Signals.ipynb",
      "provenance": []
    },
    "kernelspec": {
      "display_name": "Python 3",
      "name": "python3"
    },
    "language_info": {
      "name": "python"
    },
    "accelerator": "GPU"
  },
  "nbformat": 4,
  "nbformat_minor": 0
}